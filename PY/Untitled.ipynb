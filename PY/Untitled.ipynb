{
 "cells": [
  {
   "cell_type": "code",
   "execution_count": 30,
   "metadata": {},
   "outputs": [],
   "source": [
    "import json\n",
    "import nltk\n",
    "import plotly\n",
    "import pandas as pd\n",
    "\n",
    "from nltk.stem import WordNetLemmatizer\n",
    "from nltk.tokenize import word_tokenize, sent_tokenize\n",
    "from nltk import pos_tag, word_tokenize\n",
    "\n",
    "from sklearn.base import BaseEstimator, TransformerMixin\n",
    "from sklearn.externals import joblib\n",
    "\n",
    "from flask import Flask, render_template, request, jsonify, redirect\n",
    "from flask_sqlalchemy import sqlalchemy\n",
    "from sqlalchemy import create_engine\n",
    "from sqlalchemy.ext.automap import automap_base\n",
    "from sqlalchemy.orm import Session\n",
    "from sqlalchemy import create_engine, func, inspect\n",
    "\n",
    "\n",
    "class StartingVerbExtractor(BaseEstimator, TransformerMixin):\n",
    "    def starting_verb(self, text):\n",
    "        sentence_list = nltk.sent_tokenize(text)\n",
    "        for sentence in sentence_list:\n",
    "            pos_tags = nltk.pos_tag(tokenize(sentence))\n",
    "            first_word, first_tag = pos_tags[0]\n",
    "            if first_tag in ['VB', 'VBP'] or first_word == 'RT':\n",
    "                return True\n",
    "        return False\n",
    "    def fit(self, X, y=None):\n",
    "        return self\n",
    "    def transform(self, X):\n",
    "        X_tagged = pd.Series(X).apply(self.starting_verb)\n",
    "        return pd.DataFrame(X_tagged)\n",
    "\n",
    "\n",
    "def tokenize(text):\n",
    "    # replace the webpage with a urlplaceholder\n",
    "    url_regex = 'http[s]?://(?:[a-zA-Z]|[0-9]|[$-_@.&+]|[!*\\(\\),]|(?:%[0-9a-fA-F][0-9a-fA-F]))+'\n",
    "    detected_urls = re.findall(url_regex, text)\n",
    "    for url in detected_urls:\n",
    "        text = text.replace(url, \"urlplaceholder\")\n",
    "    # tokenize text\n",
    "    tokens = word_tokenize(text)\n",
    "    lemmatizer = WordNetLemmatizer()\n",
    "    # lemmatize, turn into lowercase, strip spaces\n",
    "    clean_tokens = []\n",
    "    for tok in tokens:\n",
    "        clean_tok = lemmatizer.lemmatize(tok).lower().strip()\n",
    "        clean_tokens.append(clean_tok)\n",
    "    return clean_tokens\n",
    "\n",
    "\n",
    "# load the data.\n",
    "engine = create_engine(\"sqlite:///./PY/DisasterResponse.db\", echo=True)\n",
    "session = Session(engine)"
   ]
  },
  {
   "cell_type": "code",
   "execution_count": 32,
   "metadata": {},
   "outputs": [],
   "source": [
    "engine = create_engine('sqlite:///DisasterResponse.db')\n",
    "df = pd.read_sql_table('disaster_response', engine)"
   ]
  },
  {
   "cell_type": "code",
   "execution_count": 45,
   "metadata": {},
   "outputs": [
    {
     "name": "stdout",
     "output_type": "stream",
     "text": [
      "{'direct': 10747, 'news': 13036, 'social': 2394}\n"
     ]
    }
   ],
   "source": [
    "cans = df[\"genre\"].value_counts().to_dict()\n",
    "\n",
    "from pprint import pprint\n",
    "pprint (cans)"
   ]
  },
  {
   "cell_type": "code",
   "execution_count": 51,
   "metadata": {},
   "outputs": [
    {
     "data": {
      "text/plain": [
       "13036"
      ]
     },
     "execution_count": 51,
     "metadata": {},
     "output_type": "execute_result"
    }
   ],
   "source": [
    "cans[\"news\"]"
   ]
  },
  {
   "cell_type": "code",
   "execution_count": 40,
   "metadata": {},
   "outputs": [],
   "source": [
    "genre_counts = df.groupby('genre').count()['message']"
   ]
  },
  {
   "cell_type": "code",
   "execution_count": 53,
   "metadata": {},
   "outputs": [
    {
     "name": "stdout",
     "output_type": "stream",
     "text": [
      "Index(['related', 'request', 'offer', 'aid_related', 'medical_help',\n",
      "       'medical_products', 'search_and_rescue', 'security', 'military',\n",
      "       'child_alone', 'water', 'food', 'shelter', 'clothing', 'money',\n",
      "       'missing_people', 'refugees', 'death', 'other_aid',\n",
      "       'infrastructure_related', 'transport', 'buildings', 'electricity',\n",
      "       'tools', 'hospitals', 'shops', 'aid_centers', 'other_infrastructure',\n",
      "       'weather_related', 'floods', 'storm', 'fire', 'earthquake', 'cold',\n",
      "       'other_weather', 'direct_report'],\n",
      "      dtype='object')\n",
      "-----------------------\n",
      "[20062  4464   117 10840  2080  1310   724   471   859     0  1669  2917\n",
      "  2308   404   603   298   874  1192  3441  1705  1199  1331   532   159\n",
      "   283   120   309  1151  7286  2149  2440   282  2452   528  1376  5063]\n"
     ]
    }
   ],
   "source": [
    "\n",
    "category_names = df.iloc[:,4:].columns\n",
    "category_boolean = (df.iloc[:,4:] != 0).sum().values\n",
    "\n",
    "\n",
    "print (category_names)\n",
    "print (\"-----------------------\")\n",
    "print (category_boolean)"
   ]
  },
  {
   "cell_type": "code",
   "execution_count": 61,
   "metadata": {},
   "outputs": [
    {
     "data": {
      "text/html": [
       "<div>\n",
       "<style scoped>\n",
       "    .dataframe tbody tr th:only-of-type {\n",
       "        vertical-align: middle;\n",
       "    }\n",
       "\n",
       "    .dataframe tbody tr th {\n",
       "        vertical-align: top;\n",
       "    }\n",
       "\n",
       "    .dataframe thead th {\n",
       "        text-align: right;\n",
       "    }\n",
       "</style>\n",
       "<table border=\"1\" class=\"dataframe\">\n",
       "  <thead>\n",
       "    <tr style=\"text-align: right;\">\n",
       "      <th></th>\n",
       "      <th>related</th>\n",
       "      <th>request</th>\n",
       "      <th>offer</th>\n",
       "      <th>aid_related</th>\n",
       "      <th>medical_help</th>\n",
       "      <th>medical_products</th>\n",
       "      <th>search_and_rescue</th>\n",
       "      <th>security</th>\n",
       "      <th>military</th>\n",
       "      <th>child_alone</th>\n",
       "      <th>...</th>\n",
       "      <th>aid_centers</th>\n",
       "      <th>other_infrastructure</th>\n",
       "      <th>weather_related</th>\n",
       "      <th>floods</th>\n",
       "      <th>storm</th>\n",
       "      <th>fire</th>\n",
       "      <th>earthquake</th>\n",
       "      <th>cold</th>\n",
       "      <th>other_weather</th>\n",
       "      <th>direct_report</th>\n",
       "    </tr>\n",
       "  </thead>\n",
       "  <tbody>\n",
       "    <tr>\n",
       "      <th>0</th>\n",
       "      <td>20062</td>\n",
       "      <td>4464</td>\n",
       "      <td>117</td>\n",
       "      <td>10840</td>\n",
       "      <td>2080</td>\n",
       "      <td>1310</td>\n",
       "      <td>724</td>\n",
       "      <td>471</td>\n",
       "      <td>859</td>\n",
       "      <td>0</td>\n",
       "      <td>...</td>\n",
       "      <td>309</td>\n",
       "      <td>1151</td>\n",
       "      <td>7286</td>\n",
       "      <td>2149</td>\n",
       "      <td>2440</td>\n",
       "      <td>282</td>\n",
       "      <td>2452</td>\n",
       "      <td>528</td>\n",
       "      <td>1376</td>\n",
       "      <td>5063</td>\n",
       "    </tr>\n",
       "  </tbody>\n",
       "</table>\n",
       "<p>1 rows × 36 columns</p>\n",
       "</div>"
      ],
      "text/plain": [
       "   related  request  offer  aid_related  medical_help  medical_products  \\\n",
       "0    20062     4464    117        10840          2080              1310   \n",
       "\n",
       "   search_and_rescue  security  military  child_alone      ...        \\\n",
       "0                724       471       859            0      ...         \n",
       "\n",
       "   aid_centers  other_infrastructure  weather_related  floods  storm  fire  \\\n",
       "0          309                  1151             7286    2149   2440   282   \n",
       "\n",
       "   earthquake  cold  other_weather  direct_report  \n",
       "0        2452   528           1376           5063  \n",
       "\n",
       "[1 rows x 36 columns]"
      ]
     },
     "execution_count": 61,
     "metadata": {},
     "output_type": "execute_result"
    }
   ],
   "source": [
    "facts = pd.DataFrame([category_boolean], columns=category_names)\n",
    "facts"
   ]
  },
  {
   "cell_type": "code",
   "execution_count": 66,
   "metadata": {},
   "outputs": [
    {
     "name": "stdout",
     "output_type": "stream",
     "text": [
      "related\n",
      "20062\n",
      "request\n",
      "4464\n",
      "offer\n",
      "117\n",
      "aid_related\n",
      "10840\n",
      "medical_help\n",
      "2080\n",
      "medical_products\n",
      "1310\n",
      "search_and_rescue\n",
      "724\n",
      "security\n",
      "471\n",
      "military\n",
      "859\n",
      "child_alone\n",
      "0\n",
      "water\n",
      "1669\n",
      "food\n",
      "2917\n",
      "shelter\n",
      "2308\n",
      "clothing\n",
      "404\n",
      "money\n",
      "603\n",
      "missing_people\n",
      "298\n",
      "refugees\n",
      "874\n",
      "death\n",
      "1192\n",
      "other_aid\n",
      "3441\n",
      "infrastructure_related\n",
      "1705\n",
      "transport\n",
      "1199\n",
      "buildings\n",
      "1331\n",
      "electricity\n",
      "532\n",
      "tools\n",
      "159\n",
      "hospitals\n",
      "283\n",
      "shops\n",
      "120\n",
      "aid_centers\n",
      "309\n",
      "other_infrastructure\n",
      "1151\n",
      "weather_related\n",
      "7286\n",
      "floods\n",
      "2149\n",
      "storm\n",
      "2440\n",
      "fire\n",
      "282\n",
      "earthquake\n",
      "2452\n",
      "cold\n",
      "528\n",
      "other_weather\n",
      "1376\n",
      "direct_report\n",
      "5063\n"
     ]
    }
   ],
   "source": [
    "for thing in facts:\n",
    "    print (thing)\n",
    "    print (int(facts[thing]))"
   ]
  },
  {
   "cell_type": "code",
   "execution_count": null,
   "metadata": {},
   "outputs": [],
   "source": []
  }
 ],
 "metadata": {
  "kernelspec": {
   "display_name": "Python [conda env:PythonData]",
   "language": "python",
   "name": "conda-env-PythonData-py"
  },
  "language_info": {
   "codemirror_mode": {
    "name": "ipython",
    "version": 3
   },
   "file_extension": ".py",
   "mimetype": "text/x-python",
   "name": "python",
   "nbconvert_exporter": "python",
   "pygments_lexer": "ipython3",
   "version": "3.6.7"
  }
 },
 "nbformat": 4,
 "nbformat_minor": 2
}
